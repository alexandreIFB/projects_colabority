{
  "nbformat": 4,
  "nbformat_minor": 0,
  "metadata": {
    "colab": {
      "name": "BioInformatica ViuvaNega.ipynb",
      "provenance": [],
      "authorship_tag": "ABX9TyMCrJwH1J5HPVJfJu+LIZaR",
      "include_colab_link": true
    },
    "kernelspec": {
      "name": "python3",
      "display_name": "Python 3"
    },
    "language_info": {
      "name": "python"
    }
  },
  "cells": [
    {
      "cell_type": "markdown",
      "metadata": {
        "id": "view-in-github",
        "colab_type": "text"
      },
      "source": [
        "<a href=\"https://colab.research.google.com/github/alexandreIFB/projects_colabority/blob/master/BioInformatica_ViuvaNega.ipynb\" target=\"_parent\"><img src=\"https://colab.research.google.com/assets/colab-badge.svg\" alt=\"Open In Colab\"/></a>"
      ]
    },
    {
      "cell_type": "markdown",
      "source": [
        "#Introdução\n"
      ],
      "metadata": {
        "id": "uyTn3EVgFrKc"
      }
    },
    {
      "cell_type": "markdown",
      "source": [
        "<img src=\"data:image/jpeg;base64,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\"/>"
      ],
      "metadata": {
        "id": "J1juUY6qLaKv"
      }
    },
    {
      "cell_type": "markdown",
      "source": [
        "“A viúva-negra americana (Latrodectus mactans) é uma espécie\n",
        "de aranha da família dos teridiídeos, distribuída por toda a América. O\n",
        "nome provém do fato de a fêmea geralmente se **alimentar do macho**\n",
        "após a cópula. No Brasil, é encontrada atualmente próxima ao mar,\n",
        "sobretudo em praias pouco frequentadas. É amplamente encontrada em\n",
        "torno da Baía da Guanabara. (...) Por ser uma aranha muito conhecida\n",
        "no Brasil e por saber-se que sua peçonha é muito forte, há a alusão de\n",
        "que esta é a aranha **mais venenosa que existe**. Porém, mesmo no\n",
        "Brasil, existem dois gêneros considerados de maior perigo: a\n",
        "**aranha-marrom (Loxosceles sp.), e a armadeira (Phoneutria sp.)**,\n",
        "sendo esta última considerada por muitos a aranha mais peçonhenta do\n",
        "mundo, ambas encontradas em praticamente todo o país.”"
      ],
      "metadata": {
        "id": "IH-KneZyLXf3"
      }
    },
    {
      "cell_type": "markdown",
      "source": [
        "#Dicionario\n",
        "\n",
        "* **Peçonhenta:** que tem peçonha; venenoso.\n",
        "\n",
        "* **teridiídeos**: As espécies incluídas nesta família caraacterizam-se pela presença de uma placa genital nas fêmeas, possuírem cribelo e recorrerem a fios pegajosos para construir as armadilhas com que capturam as suas presas"
      ],
      "metadata": {
        "id": "A0Y_lGBPF7i8"
      }
    },
    {
      "cell_type": "markdown",
      "source": [
        "#Pesquisa - 1 Etapa\n",
        "\n",
        "Imagine que foi encontrada uma aranha com características muito\n",
        "**similares à viúva negra na praia de Copacabana**, porém com um **veneno mais poderoso**, similar às encontradas em aranhas-marrom e arma-deiras. Para melhor estudar esta aranha, foi proposto um **sequenciamento de seu genoma**, de forma a identificar **genes associados à produção de toxinas**.\n",
        "\n",
        "Como visto em sala de aula, o sequenciamento de um genoma não é capaz de produzir a **sequência completa** do DNA, mas sim uma imensa quantidade de **fragmentos** de DNA (reads). De forma a entender as características do sequenciamentos de outras aranhas “próximas” responda a questão a seguir:"
      ],
      "metadata": {
        "id": "hXNqXHpUHi2G"
      }
    },
    {
      "cell_type": "markdown",
      "source": [
        "##1 - Obtendo os fragmentos(reads)\n",
        "\n",
        "A primeira atividade de um bioinformata é adquirir e analisar a qualidade dessas reads. Os dados de sequenciamento são normalmente armazenados no banco de dados SRA (Sequence Read archives) do NCBI."
      ],
      "metadata": {
        "id": "b-HlX3mzHtKx"
      }
    },
    {
      "cell_type": "markdown",
      "source": [
        "### a) Pesquise o termo **Latrodectus** no banco de dados SRA. Quantos dados de sequenciamento foram retornados? Quantos deles são dados de DNA e quantos são de dados de RNA?"
      ],
      "metadata": {
        "id": "Y-cDpfPuI5x3"
      }
    },
    {
      "cell_type": "markdown",
      "source": [
        "**R:** Foi encontrado um total de **63** sequenciamentos, deles, **56** DE RNA e **7** de DNA"
      ],
      "metadata": {
        "id": "6758Ey1aVwq8"
      }
    },
    {
      "cell_type": "markdown",
      "source": [
        "###b) Filtre a busca para DNA. Quais tecnologias de sequenciamento foram utilizadas para estes dados?\n"
      ],
      "metadata": {
        "id": "lOUH6HWtLmun"
      }
    },
    {
      "cell_type": "markdown",
      "source": [
        "\n",
        "**6** Illumina\n",
        "\n",
        "**1** Oxford Nanopore\n",
        "\n",
        "**Illumina**: O sequenciamento de corantes Illumina é uma técnica usada para determinar a série de pares de bases no DNA, também conhecida como sequenciamento de DNA. O conceito de química terminada reversível foi inventado por Bruno Canard e Simon Sarfati no Instituto Pasteur em Paris.\n",
        "\n",
        "\n",
        "**Oxford Nanopore**: O sequenciamento de nanoporos é uma tecnologia única e escalável que permite a análise direta e em tempo real de fragmentos longos de DNA ou RNA . Ele funciona monitorando as mudanças em uma corrente elétrica à medida que os ácidos nucleicos são passados ​​por um nanoporo de proteína. O sinal resultante é decodificado para fornecer a sequência específica de DNA ou RNA."
      ],
      "metadata": {
        "id": "iThTZCdWVnI_"
      }
    },
    {
      "cell_type": "markdown",
      "source": [
        "###c) Escolha uma das coleções de reads retornado e responda:"
      ],
      "metadata": {
        "id": "OIkalrP5LsDr"
      }
    },
    {
      "cell_type": "markdown",
      "source": [
        "**i) Qual seu código de acesso (acession)?**\n",
        "\n",
        "SRX11502870\n",
        "\n",
        "**ii) Qual a estratégia de sequenciamento foi usada? O que faz essa estratégia?**\n",
        "\n",
        "*Oxford Nanopore*: O sequenciamento de nanoporos é uma tecnologia única e escalável que permite a análise direta e em tempo real de fragmentos longos de DNA ou RNA . Ele funciona monitorando as mudanças em uma corrente elétrica à medida que os ácidos nucleicos são passados ​​por um nanoporo de proteína. O sinal resultante é decodificado para fornecer a sequência específica de DNA ou RNA.\n",
        "\n",
        "**iii) Qual layout foi usado, Paired-end ou single-end? o que significam estes termos e quais as vantagens do uso de um em relação ao outro?**\n",
        "\n",
        "*Paired-end* : O sequenciamento Paired-end permite que os usuários sequenciem ambas as extremidades de um fragmento e gerem dados de sequência alinháveis ​​e de alta qualidade. O sequenciamento Paired-end **facilita** a detecção de rearranjos genômicos e elementos de sequência repetitiva, bem como fusões de genes e novos transcritos.\n",
        "\n",
        "*Single-end*: O sequenciamento de leitura única envolve o sequenciamento de DNA de apenas uma extremidade e é a maneira mais simples de utilizar o sequenciamento da **Illumina**. Esta solução fornece grandes volumes de dados de alta qualidade, de **forma rápida e econômica**. O sequenciamento de leitura única pode ser uma boa escolha para certos métodos, como o sequenciamento por imunoprecipitação de cromatina ou RNA-Seq pequeno (ChIP-Seq). \n",
        "\n",
        "*Paired-end vs Single-end*: O paired-end além de produzir o dobro de leituras pelo mesmo tempo e esforço da biblioteca, as sequências alinhadas como pares de leitura permitem um alinhamento de leitura mais preciso e a capacidade de detectar variantes de inserção-exclusão, ja o Single-end é um metodo bom quando se deseja economia.\n",
        "\n",
        "**iv) Quantas runs foram realizadas? quais os tamanhos dos arquivos?**\n",
        "\n",
        "Runs: 1 run, 5.2M spots, 99.8G bases, 82.8Gb"
      ],
      "metadata": {
        "id": "CURJaa6iNymD"
      }
    },
    {
      "cell_type": "markdown",
      "source": [
        "###d) Volte para a página da pesquisa (com o filtro de DNA), clique no link send to e crie um arquivo no formato summary. Apartir deste arquivo, faça uma tabela apresentando as características, levantadas nas questões anteriores, de cada sequenciamento."
      ],
      "metadata": {
        "id": "EJ_Yol55WDhx"
      }
    },
    {
      "cell_type": "code",
      "source": [
        "import pandas as pd"
      ],
      "metadata": {
        "id": "YsiZ6TgiWIT6"
      },
      "execution_count": null,
      "outputs": []
    },
    {
      "cell_type": "code",
      "source": [
        "dados_dna = pd.read_csv('/content/sra_result.csv') \n",
        "dados_dna.drop(columns=['Experiment Title','Organism Name','Instrument','Submitter','Study Accession','Study Title','Sample Title','Total Spots','Total Bases','Library Name','Sample Accession', 'Library Source','Library Selection'], inplace=True)\n",
        "\n",
        "dados_dna"
      ],
      "metadata": {
        "id": "MMR9js1kX0N0",
        "colab": {
          "base_uri": "https://localhost:8080/",
          "height": 269
        },
        "outputId": "92f02295-4097-463c-edc1-65fe8a878680"
      },
      "execution_count": null,
      "outputs": [
        {
          "output_type": "execute_result",
          "data": {
            "text/plain": [
              "  Experiment Accession  Total Size, Mb  Total RUNs Library Strategy\n",
              "0          SRX11502871        20402.29           1              WGS\n",
              "1          SRX11502870        84801.54           1              WGS\n",
              "2           SRX3180842        32718.65           2              WGS\n",
              "3           SRX3180841        25968.79           1              WGS\n",
              "4            SRX330084        21268.43           1              WGS\n",
              "5            SRX330083        36667.14           2              WGS\n",
              "6            SRX330082        34789.52           2              WGS"
            ],
            "text/html": [
              "\n",
              "  <div id=\"df-6cfdf603-52b8-44ca-846e-580375a04f92\">\n",
              "    <div class=\"colab-df-container\">\n",
              "      <div>\n",
              "<style scoped>\n",
              "    .dataframe tbody tr th:only-of-type {\n",
              "        vertical-align: middle;\n",
              "    }\n",
              "\n",
              "    .dataframe tbody tr th {\n",
              "        vertical-align: top;\n",
              "    }\n",
              "\n",
              "    .dataframe thead th {\n",
              "        text-align: right;\n",
              "    }\n",
              "</style>\n",
              "<table border=\"1\" class=\"dataframe\">\n",
              "  <thead>\n",
              "    <tr style=\"text-align: right;\">\n",
              "      <th></th>\n",
              "      <th>Experiment Accession</th>\n",
              "      <th>Total Size, Mb</th>\n",
              "      <th>Total RUNs</th>\n",
              "      <th>Library Strategy</th>\n",
              "    </tr>\n",
              "  </thead>\n",
              "  <tbody>\n",
              "    <tr>\n",
              "      <th>0</th>\n",
              "      <td>SRX11502871</td>\n",
              "      <td>20402.29</td>\n",
              "      <td>1</td>\n",
              "      <td>WGS</td>\n",
              "    </tr>\n",
              "    <tr>\n",
              "      <th>1</th>\n",
              "      <td>SRX11502870</td>\n",
              "      <td>84801.54</td>\n",
              "      <td>1</td>\n",
              "      <td>WGS</td>\n",
              "    </tr>\n",
              "    <tr>\n",
              "      <th>2</th>\n",
              "      <td>SRX3180842</td>\n",
              "      <td>32718.65</td>\n",
              "      <td>2</td>\n",
              "      <td>WGS</td>\n",
              "    </tr>\n",
              "    <tr>\n",
              "      <th>3</th>\n",
              "      <td>SRX3180841</td>\n",
              "      <td>25968.79</td>\n",
              "      <td>1</td>\n",
              "      <td>WGS</td>\n",
              "    </tr>\n",
              "    <tr>\n",
              "      <th>4</th>\n",
              "      <td>SRX330084</td>\n",
              "      <td>21268.43</td>\n",
              "      <td>1</td>\n",
              "      <td>WGS</td>\n",
              "    </tr>\n",
              "    <tr>\n",
              "      <th>5</th>\n",
              "      <td>SRX330083</td>\n",
              "      <td>36667.14</td>\n",
              "      <td>2</td>\n",
              "      <td>WGS</td>\n",
              "    </tr>\n",
              "    <tr>\n",
              "      <th>6</th>\n",
              "      <td>SRX330082</td>\n",
              "      <td>34789.52</td>\n",
              "      <td>2</td>\n",
              "      <td>WGS</td>\n",
              "    </tr>\n",
              "  </tbody>\n",
              "</table>\n",
              "</div>\n",
              "      <button class=\"colab-df-convert\" onclick=\"convertToInteractive('df-6cfdf603-52b8-44ca-846e-580375a04f92')\"\n",
              "              title=\"Convert this dataframe to an interactive table.\"\n",
              "              style=\"display:none;\">\n",
              "        \n",
              "  <svg xmlns=\"http://www.w3.org/2000/svg\" height=\"24px\"viewBox=\"0 0 24 24\"\n",
              "       width=\"24px\">\n",
              "    <path d=\"M0 0h24v24H0V0z\" fill=\"none\"/>\n",
              "    <path d=\"M18.56 5.44l.94 2.06.94-2.06 2.06-.94-2.06-.94-.94-2.06-.94 2.06-2.06.94zm-11 1L8.5 8.5l.94-2.06 2.06-.94-2.06-.94L8.5 2.5l-.94 2.06-2.06.94zm10 10l.94 2.06.94-2.06 2.06-.94-2.06-.94-.94-2.06-.94 2.06-2.06.94z\"/><path d=\"M17.41 7.96l-1.37-1.37c-.4-.4-.92-.59-1.43-.59-.52 0-1.04.2-1.43.59L10.3 9.45l-7.72 7.72c-.78.78-.78 2.05 0 2.83L4 21.41c.39.39.9.59 1.41.59.51 0 1.02-.2 1.41-.59l7.78-7.78 2.81-2.81c.8-.78.8-2.07 0-2.86zM5.41 20L4 18.59l7.72-7.72 1.47 1.35L5.41 20z\"/>\n",
              "  </svg>\n",
              "      </button>\n",
              "      \n",
              "  <style>\n",
              "    .colab-df-container {\n",
              "      display:flex;\n",
              "      flex-wrap:wrap;\n",
              "      gap: 12px;\n",
              "    }\n",
              "\n",
              "    .colab-df-convert {\n",
              "      background-color: #E8F0FE;\n",
              "      border: none;\n",
              "      border-radius: 50%;\n",
              "      cursor: pointer;\n",
              "      display: none;\n",
              "      fill: #1967D2;\n",
              "      height: 32px;\n",
              "      padding: 0 0 0 0;\n",
              "      width: 32px;\n",
              "    }\n",
              "\n",
              "    .colab-df-convert:hover {\n",
              "      background-color: #E2EBFA;\n",
              "      box-shadow: 0px 1px 2px rgba(60, 64, 67, 0.3), 0px 1px 3px 1px rgba(60, 64, 67, 0.15);\n",
              "      fill: #174EA6;\n",
              "    }\n",
              "\n",
              "    [theme=dark] .colab-df-convert {\n",
              "      background-color: #3B4455;\n",
              "      fill: #D2E3FC;\n",
              "    }\n",
              "\n",
              "    [theme=dark] .colab-df-convert:hover {\n",
              "      background-color: #434B5C;\n",
              "      box-shadow: 0px 1px 3px 1px rgba(0, 0, 0, 0.15);\n",
              "      filter: drop-shadow(0px 1px 2px rgba(0, 0, 0, 0.3));\n",
              "      fill: #FFFFFF;\n",
              "    }\n",
              "  </style>\n",
              "\n",
              "      <script>\n",
              "        const buttonEl =\n",
              "          document.querySelector('#df-6cfdf603-52b8-44ca-846e-580375a04f92 button.colab-df-convert');\n",
              "        buttonEl.style.display =\n",
              "          google.colab.kernel.accessAllowed ? 'block' : 'none';\n",
              "\n",
              "        async function convertToInteractive(key) {\n",
              "          const element = document.querySelector('#df-6cfdf603-52b8-44ca-846e-580375a04f92');\n",
              "          const dataTable =\n",
              "            await google.colab.kernel.invokeFunction('convertToInteractive',\n",
              "                                                     [key], {});\n",
              "          if (!dataTable) return;\n",
              "\n",
              "          const docLinkHtml = 'Like what you see? Visit the ' +\n",
              "            '<a target=\"_blank\" href=https://colab.research.google.com/notebooks/data_table.ipynb>data table notebook</a>'\n",
              "            + ' to learn more about interactive tables.';\n",
              "          element.innerHTML = '';\n",
              "          dataTable['output_type'] = 'display_data';\n",
              "          await google.colab.output.renderOutput(dataTable, element);\n",
              "          const docLink = document.createElement('div');\n",
              "          docLink.innerHTML = docLinkHtml;\n",
              "          element.appendChild(docLink);\n",
              "        }\n",
              "      </script>\n",
              "    </div>\n",
              "  </div>\n",
              "  "
            ]
          },
          "metadata": {},
          "execution_count": 31
        }
      ]
    },
    {
      "cell_type": "markdown",
      "source": [
        "#Pesquisa - 2 Etapa \n",
        "\n",
        "Após o tratamento das reads, foi realizada a etapa de filtragem,\n",
        "responsável pelo descarte de reads de baixa qualidade, e de\n",
        "montagem, responsável por transformar reads em “pedaços” maiores\n",
        "de DNA (iremos explorar estas duas fases ao longo do curso).\n",
        "\n",
        "Depois disso, entramos na fase de anotação, que consiste em dar\n",
        "um significado (função) para as sequências encontradas. Nesta fase,\n",
        "voltamos ao objetivo principal de nossa pesquisa, a de encontrar genes\n",
        "associados à produção de toxinas. Normalmente, a identificação de uma\n",
        "função putativa (ainda não validada in-vivo) de uma proteína é feita\n",
        "através da comparação das sequências obtidas pelo processo descrito\n",
        "anteriormente com sequências “anotadas” em banco dados biológicas.\n",
        "\n",
        "Foi-lhe dada a tarefa de construir duas coleções de proteínas,\n",
        "relacionadas com a produção de toxinas, a serem utilizadas para essa\n",
        "comparação, uma com dados manualmente curados e outra sem\n",
        "validação in-vivo. Essa coleção de dados deve ser armazenada em um\n",
        "arquivo no formato fasta."
      ],
      "metadata": {
        "id": "WfGZjvZQeWpi"
      }
    },
    {
      "cell_type": "markdown",
      "source": [
        "##2) Resolva os passos a seguir para obter a coleção de dados sem validação in-vivo."
      ],
      "metadata": {
        "id": "gKRffE3beazL"
      }
    },
    {
      "cell_type": "markdown",
      "source": [
        "### a) Entre no site do Uniprot. Quantas sequências de toxinas existem no TrEMBL?"
      ],
      "metadata": {
        "id": "-9_nRfaAfEcX"
      }
    },
    {
      "cell_type": "markdown",
      "source": [
        "1.090.209"
      ],
      "metadata": {
        "id": "pZpG31rIfbU4"
      }
    },
    {
      "cell_type": "markdown",
      "source": [
        "###b) Ao lado da barra de pesquisa clique em Advanced. Faça uma pesquisa que filtre a busca por: \n",
        "\n",
        "* i) Reviewed: no\n",
        "* ii) All: toxin\n",
        "* iii) Organism: Spider\n",
        "\n",
        "### Quantas sequências foram retornadas? Qual informação foi adicionada à barra de pesquisa?"
      ],
      "metadata": {
        "id": "AkueJCP6f5aW"
      }
    },
    {
      "cell_type": "markdown",
      "source": [
        "1390 Resultado\n",
        "Barra de pesquisa: *toxin organism:spider AND reviewed:no*"
      ],
      "metadata": {
        "id": "fWsdPYsUgWBT"
      }
    },
    {
      "cell_type": "markdown",
      "source": [
        "###c) Faça o download de todas as sequências no formato FASTA. (anexe o arquivo junto com o documento de respostas)"
      ],
      "metadata": {
        "id": "NjPS03B-hFnC"
      }
    },
    {
      "cell_type": "markdown",
      "source": [
        "Anexado"
      ],
      "metadata": {
        "id": "2G6HltIthaV1"
      }
    },
    {
      "cell_type": "markdown",
      "source": [
        "### d) Faça também o download do arquivo TEXT. A partir deste arquivo obtenha:\n",
        "\n",
        "* i) AC - Accession Number de cada proteína\n",
        "* ii) O nome recomendado que descreve a função de cada proteína(pesquisar o significado das linhas que come-\n",
        "çam com DE).\n",
        "\n",
        "Por fim, crie uma tabela que relacione AC com o nome\n",
        "recomendado que descreve a função de cada proteína encontrada.\n",
        "\n",
        "Obs.: para cada AC, pode ser relacionado neste exercício apenas um\n",
        "nome recomendado."
      ],
      "metadata": {
        "id": "ekazSRYdhm67"
      }
    },
    {
      "cell_type": "markdown",
      "source": [
        "OK"
      ],
      "metadata": {
        "id": "kALUzNvFh0E_"
      }
    },
    {
      "cell_type": "markdown",
      "source": [
        "#3- De forma análoga ao exercício anterior, crie um arquivo de formato fasta de uma coleção de dados manualmente curados e uma tabela que descreve AC e a função de cada proteína da coleção."
      ],
      "metadata": {
        "id": "2g9RfE_2uLBt"
      }
    }
  ]
}